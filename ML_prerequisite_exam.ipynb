{
  "nbformat": 4,
  "nbformat_minor": 0,
  "metadata": {
    "colab": {
      "provenance": []
    },
    "kernelspec": {
      "name": "python3",
      "display_name": "Python 3"
    },
    "language_info": {
      "name": "python"
    }
  },
  "cells": [
    {
      "cell_type": "markdown",
      "source": [
        "Q1) How many multiplications and additions do you need to perform a matrix multiplication between a (n, k) and (k, m) matrix? Explain.\n",
        "\n",
        "When a (n,k) and (k,n) matrix are multiplied, the number of:\n",
        "\n",
        "1) Multiplications= n * k * m.\n",
        "\n",
        "Explanation: In the resulting matrix, there are n * m elements, each of which is the sum of 'k' products. So, there are a total of n * m * k multiplications.\n",
        "\n",
        "2) Additions= n * (k-1) * m.\n",
        "\n",
        "Explanation: In the product matrix, there are n * m elements, each a sum of 'k' products, and hence each element would contain 'k-1' additions. So, there are n * (k-1) * m additions."
      ],
      "metadata": {
        "id": "VvDrywopba_G"
      }
    },
    {
      "cell_type": "code",
      "source": [
        "# Q2) list of lists\n",
        "\n",
        "import random\n",
        "\n",
        "def list_of_lists(A,B):\n",
        "  k= len(A[0])\n",
        "  n= len(A)\n",
        "  m= len(B[0])\n",
        "  pdt= [[0 for x in range(m)] for y in range(n)]\n",
        "\n",
        "  for i in range(n):\n",
        "    for j in range(m):\n",
        "      for l in range(k):\n",
        "        pdt[i][j]+= A[i][l]* B[l][j]\n",
        "\n",
        "  return pdt\n",
        "\n",
        "\n",
        "A = [[15,7,4],\n",
        "        [4 ,15,6],\n",
        "        [7 ,23,9]]\n",
        "B = [[5,8,1],\n",
        "        [6,16,3],\n",
        "        [19,5,9]]\n",
        "\n",
        "pdt= print(list_of_lists(A,B))"
      ],
      "metadata": {
        "colab": {
          "base_uri": "https://localhost:8080/"
        },
        "id": "vmBPJnTsdd_Y",
        "outputId": "d81c7afd-7f53-4692-d95a-0a8f9b708018"
      },
      "execution_count": null,
      "outputs": [
        {
          "output_type": "stream",
          "name": "stdout",
          "text": [
            "[[193, 252, 72], [224, 302, 103], [344, 469, 157]]\n"
          ]
        }
      ]
    },
    {
      "cell_type": "code",
      "source": [
        "# Q2) Using numpy\n",
        "import numpy as np\n",
        "\n",
        "def pdt_np(A,B):\n",
        "  return np.dot(np.array(A), np.array(B))\n",
        "\n",
        "A = [[15,7,4],\n",
        "        [4 ,15,6],\n",
        "        [7 ,23,9]]\n",
        "B = [[5,8,1],\n",
        "        [6,16,3],\n",
        "        [19,5,9]]\n",
        "\n",
        "\n",
        "print(pdt_np(A,B))"
      ],
      "metadata": {
        "id": "bzarsPG85mf0",
        "colab": {
          "base_uri": "https://localhost:8080/"
        },
        "outputId": "9eeb8820-9828-4b31-91c8-2d08838999ae"
      },
      "execution_count": null,
      "outputs": [
        {
          "output_type": "stream",
          "name": "stdout",
          "text": [
            "[[193 252  72]\n",
            " [224 302 103]\n",
            " [344 469 157]]\n"
          ]
        }
      ]
    },
    {
      "cell_type": "code",
      "source": [
        "# Q2) comparing time of both\n",
        "import time\n",
        "import numpy as np\n",
        "\n",
        "start= time.time()\n",
        "for i in range(1,10000):\n",
        "    pdt_np(A,B)\n",
        "end_numpy= time.time()\n",
        "\n",
        "for i in range(1,10000):\n",
        "    list_of_lists(A,B)\n",
        "end_lists= time.time()\n",
        "\n",
        "print(pdt_np(A,B))\n",
        "print()\n",
        "print(list_of_lists(A,B))\n",
        "print()\n",
        "print(\"Time using the numpy method= \",end_numpy-start)\n",
        "print(\"Time using the list of lists method= \",end_lists-end_numpy)\n"
      ],
      "metadata": {
        "colab": {
          "base_uri": "https://localhost:8080/"
        },
        "id": "wg26ydGuof85",
        "outputId": "f2af0662-1db9-4ea1-f79a-982b8bc9e8d3"
      },
      "execution_count": null,
      "outputs": [
        {
          "output_type": "stream",
          "name": "stdout",
          "text": [
            "[[193 252  72]\n",
            " [224 302 103]\n",
            " [344 469 157]]\n",
            "\n",
            "[[193, 252, 72], [224, 302, 103], [344, 469, 157]]\n",
            "\n",
            "Time using the numpy method=  0.10685610771179199\n",
            "Time using the list of lists method=  0.17152166366577148\n"
          ]
        }
      ]
    },
    {
      "cell_type": "code",
      "source": [
        "#Q3)\n",
        "import numpy as np\n",
        "\n",
        "def firstmethod(A):\n",
        "  sorted_arr=sorted(A)\n",
        "  mid=len(A)//2\n",
        "  if len(sorted_arr)%2==1:\n",
        "    return(sorted_arr[mid])\n",
        "  else:\n",
        "    return((sorted_arr[mid-1]+sorted_arr[mid])/2)\n",
        "\n",
        "# The better method to finding the median would be to use quickselect\n",
        "def partition(A, start, end):\n",
        "    pivot = A[start]\n",
        "    i, j = start + 1, end\n",
        "    while i <= j:\n",
        "        if A[i] < pivot:\n",
        "            i += 1\n",
        "        elif A[j] > pivot:\n",
        "            j -= 1\n",
        "        else:\n",
        "            A[i], A[j] = A[j], A[i]\n",
        "            i += 1\n",
        "            j -= 1\n",
        "    A[start], A[j] = A[j], A[start]\n",
        "    return j\n",
        "\n",
        "def quickselect(A, start, end, k):\n",
        "    while start<= end:\n",
        "        pivot_index= partition(A, start, end)\n",
        "        if k== pivot_index:\n",
        "            return A[k]\n",
        "        elif k< pivot_index:\n",
        "            end= pivot_index - 1\n",
        "        else:\n",
        "            start= pivot_index + 1\n",
        "            k-= (pivot_index - start + 1)\n",
        "    return A[start]\n",
        "\n",
        "\n",
        "def median(A):\n",
        "    n= len(A)\n",
        "    if n%2== 1:\n",
        "        return quickselect(A, 0, n-1, n//2)\n",
        "    else:\n",
        "        mid1= quickselect(A, 0, n-1, (n//2) - 1)\n",
        "        mid2= quickselect(A, 0, n-1, n//2)\n",
        "        return (mid1+mid2)/2\n",
        "\n",
        "\n",
        "\n",
        "# Finding the median using the numpy method\n",
        "def numpy_method(A):\n",
        "  return np.median(A)\n",
        "\n",
        "\n",
        "A=[3,8,14,9,2,17,6,12]\n",
        "print(\"Median by the first method=  \",firstmethod(A))\n",
        "print(\"Median by using quickselect= \", median(A))\n",
        "print(\"Median by numpy method=  \",numpy_method(A))"
      ],
      "metadata": {
        "colab": {
          "base_uri": "https://localhost:8080/"
        },
        "id": "K6Vqa5rNok6q",
        "outputId": "178e5b04-c0a7-4675-bafe-b6480a62ef7e"
      },
      "execution_count": null,
      "outputs": [
        {
          "output_type": "stream",
          "name": "stdout",
          "text": [
            "Median by the first method=   8.5\n",
            "Median by using quickselect=  8.5\n",
            "Median by numpy method=   8.5\n"
          ]
        }
      ]
    },
    {
      "cell_type": "markdown",
      "source": [
        "Q3)\n",
        "The time complexity using the first method, in which we pass through the whole array as many times as required to find the median is = O(nlog(n))"
      ],
      "metadata": {
        "id": "ACUzuYAaC3ly"
      }
    },
    {
      "cell_type": "markdown",
      "source": [
        "Q4)\n",
        "Solved it on paper, wasn't able to use latex. Picture not uploading due to glitch. Wrote down the solution in words below:\n",
        "\n",
        "x- coordinate of gradient= 2xy + y^3 cosx. (partial derivative of the function w.r.t x)\n",
        "\n",
        "y- coordinate of gradient= x^2 + 3y^2 sinx (partial derivative of the function w.r.t y)\n",
        "\n",
        "gradient= (2xy + y^3 cosx,x^2 + 3y^2 sinx)"
      ],
      "metadata": {
        "id": "yTXoaZsQLtKO"
      }
    },
    {
      "cell_type": "code",
      "source": [
        "# Q5)\n",
        "\n",
        "import jax\n",
        "import jax.numpy as jnp\n",
        "\n",
        "def f(x,y):\n",
        "  return (x**2)*y + (y**3)*jnp.sin(x)\n",
        "\n",
        "a1=1.0\n",
        "b1=2.0\n",
        "\n",
        "jax_grad1 = jax.grad(f, argnums=(0,1))(a1, b1)\n",
        "analy_grad1= (2*a1*b1+b1**3*jnp.cos(a1),a1**2+3*b1**2*jnp.sin(a1))\n",
        "\n",
        "print(jax_grad1 )\n",
        "print(analy_grad1)\n",
        "\n",
        "a2=4.0\n",
        "b2=5.0\n",
        "\n",
        "jax_grad2 = jax.grad(f, argnums=(0,1))(a2, b2)\n",
        "analy_grad2= (2*a2*b2+b2**3*jnp.cos(a2),a2**2+3*b2**2*jnp.sin(a2))\n",
        "\n",
        "print(jax_grad2 )\n",
        "print(analy_grad2)\n"
      ],
      "metadata": {
        "colab": {
          "base_uri": "https://localhost:8080/"
        },
        "id": "PLdqppmnRFBB",
        "outputId": "d07269f5-2f94-4cba-f9e8-c3068ae273e6"
      },
      "execution_count": null,
      "outputs": [
        {
          "output_type": "stream",
          "name": "stdout",
          "text": [
            "(Array(8.322418, dtype=float32, weak_type=True), Array(11.0976515, dtype=float32, weak_type=True))\n",
            "(Array(8.322418, dtype=float32, weak_type=True), Array(11.0976515, dtype=float32, weak_type=True))\n",
            "(Array(-41.705452, dtype=float32, weak_type=True), Array(-40.76019, dtype=float32, weak_type=True))\n",
            "(Array(-41.705452, dtype=float32, weak_type=True), Array(-40.76019, dtype=float32, weak_type=True))\n"
          ]
        }
      ]
    },
    {
      "cell_type": "code",
      "source": [
        "# Q6)\n",
        "import sympy as sp\n",
        "\n",
        "x,y=sp.symbols('x y')\n",
        "func=(x**2)*y + (y**3)*sp.sin(x)\n",
        "\n",
        "gradx=sp.diff(func,x)\n",
        "grady=sp.diff(func,y)\n",
        "\n",
        "print(f\"Gradient x: {gradx}\")\n",
        "print(f\"Gradient y: {grady}\")\n",
        "\n",
        "\n"
      ],
      "metadata": {
        "colab": {
          "base_uri": "https://localhost:8080/"
        },
        "id": "HVUVA3XYS1JG",
        "outputId": "297d86c1-a654-482a-d3d2-fcc27dcb7680"
      },
      "execution_count": null,
      "outputs": [
        {
          "output_type": "stream",
          "name": "stdout",
          "text": [
            "Gradient x: 2*x*y + y**3*cos(x)\n",
            "Gradient y: x**2 + 3*y**2*sin(x)\n"
          ]
        }
      ]
    },
    {
      "cell_type": "code",
      "source": [
        "# Q7)\n",
        "import pandas as pd\n",
        "\n",
        "data= {2022:\n",
        "       {\"Branch 1\":\n",
        "        {1:{\"Roll number\": 1, \"Name\": \"Monisha\", \"Marks\": {\"Maths\": 97, \"English\": 98, \"Science\": 95}},\n",
        "         2:{\"Roll number\": 2, \"Name\" : \"Ananya\", \"Marks\": {\"Maths\": 87, \"English\": 94, \"Science\": 92}}},\n",
        "        \"Branch 2\":\n",
        "        {1:{\"Roll number\": 3, \"Name\": \"Rachit\", \"Marks\": {\"Maths\": 84, \"English\": 87, \"Science\": 94}},\n",
        "         2:{\"Roll number\": 4, \"Name\" : \"Aditi\", \"Marks\": {\"Maths\": 95, \"English\": 93, \"Science\": 87}}},\n",
        "        },\n",
        "\n",
        "       2023:\n",
        "       {\"Branch 1\":\n",
        "        {1:{\"Roll number\": 5, \"Name\": \"Ram\", \"Marks\": {\"Maths\": 95, \"English\": 99, \"Science\": 85}},\n",
        "         2:{\"Roll number\": 6, \"Name\" : \"Angel\", \"Marks\": {\"Maths\": 77, \"English\": 84, \"Science\": 72}}},\n",
        "        \"Branch 2\":\n",
        "        {1:{\"Roll number\": 7, \"Name\": \"Vijay\", \"Marks\": {\"Maths\": 90, \"English\": 97, \"Science\": 96}},\n",
        "         2:{\"Roll number\": 8, \"Name\" : \"Sam\", \"Marks\": {\"Maths\": 100, \"English\": 89, \"Science\": 84}}},\n",
        "        },\n",
        "\n",
        "       2024:\n",
        "       {\"Branch 1\":\n",
        "        {1:{\"Roll number\": 9, \"Name\": \"Prateek\", \"Marks\": {\"Maths\": 38, \"English\": 86, \"Science\": 56}},\n",
        "         2:{\"Roll number\": 10, \"Name\" : \"Rohan\", \"Marks\": {\"Maths\": 47, \"English\": 94, \"Science\": 68}}},\n",
        "        \"Branch 2\":\n",
        "        {1:{\"Roll number\": 11, \"Name\": \"Taylor\", \"Marks\": {\"Maths\": 84, \"English\": 87, \"Science\": 91}},\n",
        "         2:{\"Roll number\": 12, \"Name\" : \"Max\", \"Marks\": {\"Maths\": 95, \"English\": 92, \"Science\": 99}}},\n",
        "        },\n",
        "\n",
        "       2025:\n",
        "       {\"Branch 1\":\n",
        "        {1:{\"Roll number\": 13, \"Name\": \"Tanishka\", \"Marks\": {\"Maths\": 95, \"English\": 91, \"Science\": 87}},\n",
        "         2:{\"Roll number\": 14, \"Name\" : \"Madison\", \"Marks\": {\"Maths\": 46, \"English\": 84, \"Science\": 74}}},\n",
        "        \"Branch 2\":\n",
        "        {1:{\"Roll number\": 15, \"Name\": \"Kamala\", \"Marks\": {\"Maths\": 100, \"English\": 97, \"Science\": 67}},\n",
        "         2:{\"Roll number\": 16, \"Name\" : \"Devi\", \"Marks\": {\"Maths\": 91, \"English\": 83, \"Science\": 35}}},\n",
        "        },\n",
        "\n",
        "       }\n",
        "\n"
      ],
      "metadata": {
        "id": "Dq1aDPJpNRJa"
      },
      "execution_count": null,
      "outputs": []
    },
    {
      "cell_type": "code",
      "source": [
        "# Q9)\n",
        "import numpy as np\n",
        "import matplotlib.pyplot as plt\n",
        "import math\n",
        "\n",
        "x= np.arange(0.5, 100.5, 0.5)\n",
        "y1=x\n",
        "y2= x**2\n",
        "y3= x**3/100\n",
        "y4= np.sin(x)\n",
        "y5= np.sin(x)/x\n",
        "y6= np.log(x)\n",
        "y7= np.exp(x)\n",
        "\n",
        "fig, axes= plt.subplots(3,3, figsize=(15,6))\n",
        "\n",
        "axes[0,0].plot(x,y1)\n",
        "axes[0,0].set_xlabel('x')\n",
        "axes[0,0].set_ylabel('y')\n",
        "axes[0,0].set_title('y=x')\n",
        "\n",
        "axes[0,1].plot(x,y2)\n",
        "axes[0,1].set_xlabel('x')\n",
        "axes[0,1].set_ylabel('y')\n",
        "axes[0,1].set_title('y=x^2')\n",
        "\n",
        "axes[0,2].plot(x,y3)\n",
        "axes[0,2].set_xlabel('x')\n",
        "axes[0,2].set_ylabel('y')\n",
        "axes[0,2].set_title('y=x^3/100')\n",
        "\n",
        "axes[1,0].plot(x,y4)\n",
        "axes[1,0].set_xlabel('x')\n",
        "axes[1,0].set_ylabel('y')\n",
        "axes[1,0].set_title('y=sinx')\n",
        "\n",
        "axes[1,1].plot(x,y5)\n",
        "axes[1,1].set_xlabel('x')\n",
        "axes[1,1].set_ylabel('y')\n",
        "axes[1,1].set_title('y=sinx/x')\n",
        "\n",
        "axes[1,2].plot(x,y6)\n",
        "axes[1,2].set_xlabel('x')\n",
        "axes[1,2].set_ylabel('y')\n",
        "axes[1,2].set_title('y=logx')\n",
        "\n",
        "axes[2,0].plot(x,y7)\n",
        "axes[2,0].set_xlabel('x')\n",
        "axes[2,0].set_ylabel('y')\n",
        "axes[2,0].set_title('y=e^x')\n",
        "\n",
        "axes[2,1].axis(\"off\")\n",
        "axes[2,2].axis(\"off\")\n",
        "\n",
        "plt.tight_layout()"
      ],
      "metadata": {
        "colab": {
          "base_uri": "https://localhost:8080/",
          "height": 607
        },
        "id": "Ai0ojUgdI7w_",
        "outputId": "e28cf1b3-3849-4ae5-833c-9ca0df382737"
      },
      "execution_count": null,
      "outputs": [
        {
          "output_type": "display_data",
          "data": {
            "text/plain": [
              "<Figure size 1500x600 with 9 Axes>"
            ],
            "image/png": "[encoded data removed]"
          },
          "metadata": {}
        }
      ]
    },
    {
      "cell_type": "code",
      "source": [
        "# Q10)\n",
        "import numpy as np\n",
        "import pandas as pd\n",
        "\n",
        "A= np.random.uniform(1,2,(20,5))\n",
        "\n",
        "data=pd.DataFrame(A,columns=['a','b','c','d','e'])\n",
        "\n",
        "standard_deviation=data.std()\n",
        "max_std=standard_deviation.idxmax()\n",
        "\n",
        "mean_of_row =data.mean(axis=1)\n",
        "min_mean =mean_of_row.idxmin()\n",
        "\n",
        "print(\"The column with the highest standard deviation= \",max_std)\n",
        "print(\"The row with the lowest mean= \",min_mean)"
      ],
      "metadata": {
        "colab": {
          "base_uri": "https://localhost:8080/"
        },
        "id": "6uzZ0JhQYh2p",
        "outputId": "6f558c2e-63ea-4f3e-a791-b91a9787055f"
      },
      "execution_count": null,
      "outputs": [
        {
          "output_type": "stream",
          "name": "stdout",
          "text": [
            "The column with the highest standard deviation=  a\n",
            "The row with the lowest mean=  15\n"
          ]
        }
      ]
    },
    {
      "cell_type": "code",
      "source": [
        "# Q11)\n",
        "# column f\n",
        "data['f']= data['a']+data['b']+data['c']+data['d']+data['e']\n",
        "\n",
        "#column g\n",
        "data['g']= np.where(data['f']<8, \"LT8\", \"GT8\")\n",
        "rows_with_LT8= (data['g']==\"LT8\").sum()\n",
        "\n",
        "std_for_LT8= (data[data['g']==\"LT8\"]['f']).std()\n",
        "std_for_GT8= (data[data['g']==\"GT8\"]['f']).std()\n",
        "\n",
        "\n",
        "print(\"The number of rows which have the value 'LT8' in the column g= \", rows_with_LT8)\n",
        "print(f\"Standard deviation of the rows which have LT8 and GT8 in the column 'g' is {std_for_LT8} and {std_for_GT8} respectively\")"
      ],
      "metadata": {
        "colab": {
          "base_uri": "https://localhost:8080/"
        },
        "id": "37NKxxX5Y2Pi",
        "outputId": "d303a6bc-b951-485c-84fd-b510eecf1eda"
      },
      "execution_count": null,
      "outputs": [
        {
          "output_type": "stream",
          "name": "stdout",
          "text": [
            "The number of rows which have the value 'LT8' in the column g=  14\n",
            "Standard deviation of the rows which have LT8 and GT8 in the column 'g' is 0.5492027897985333 and 0.08368585447724508 respectively\n"
          ]
        }
      ]
    },
    {
      "cell_type": "code",
      "source": [
        "# Q12)\n",
        "import numpy as np\n",
        "\n",
        "A= np.array([[6, 11, 14],\n",
        "             [28, 36, 1],\n",
        "             [23, 3, 5]])\n",
        "B= np.array([1, 4, 7])\n",
        "\n",
        "C= A+B\n",
        "print(f\"Sum of A and B (broadcasted)= {C}\")"
      ],
      "metadata": {
        "colab": {
          "base_uri": "https://localhost:8080/"
        },
        "id": "onf2l0BG0wwh",
        "outputId": "58e65e51-13ef-4ab4-b115-0dd8cd0187e0"
      },
      "execution_count": null,
      "outputs": [
        {
          "output_type": "stream",
          "name": "stdout",
          "text": [
            "Sum of A and B (broadcasted)= [[ 7 15 21]\n",
            " [29 40  8]\n",
            " [24  7 12]]\n"
          ]
        }
      ]
    },
    {
      "cell_type": "code",
      "source": [
        "# Q13)\n",
        "import numpy as np\n",
        "\n",
        "def min_of_array(A):\n",
        "  min=A[0]\n",
        "  index=0\n",
        "  for i in range(len(A)):\n",
        "    if A[i]< min:\n",
        "      min= A[i]\n",
        "      index=i\n",
        "  return index\n",
        "\n",
        "A= np.array([18, 56, 227, 14, 26, 8])\n",
        "print(min_of_array(A))\n",
        "print(np.argmin(A))"
      ],
      "metadata": {
        "colab": {
          "base_uri": "https://localhost:8080/"
        },
        "id": "yuGPB8NMU-3Q",
        "outputId": "3962ce2f-4f83-433e-c1d0-aea4cfd19db2"
      },
      "execution_count": null,
      "outputs": [
        {
          "output_type": "stream",
          "name": "stdout",
          "text": [
            "5\n",
            "5\n"
          ]
        }
      ]
    }
  ]
}